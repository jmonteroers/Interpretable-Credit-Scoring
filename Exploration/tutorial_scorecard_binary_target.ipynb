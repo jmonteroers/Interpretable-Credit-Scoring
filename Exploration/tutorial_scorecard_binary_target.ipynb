{
 "cells": [
  {
   "cell_type": "markdown",
   "metadata": {},
   "source": [
    "# Tutorial: Scorecard with binary target"
   ]
  },
  {
   "cell_type": "markdown",
   "metadata": {},
   "source": [
    "In this tutorial, we use the dataset from the FICO Explainable Machine Learning Challenge: https://community.fico.com/s/explainable-machine-learning-challenge. The goal is to develop a scorecard using the logistic regression as an estimator."
   ]
  },
  {
   "cell_type": "code",
   "execution_count": 1,
   "metadata": {},
   "outputs": [],
   "source": [
    "import matplotlib.pyplot as plt\n",
    "import numpy as np\n",
    "import pandas as pd"
   ]
  },
  {
   "cell_type": "code",
   "execution_count": 2,
   "metadata": {},
   "outputs": [
    {
     "name": "stdout",
     "output_type": "stream",
     "text": [
      "(CVXPY) May 11 07:25:52 PM: Encountered unexpected exception importing solver GLOP:\n",
      "RuntimeError('Unrecognized new version of ortools (9.9.3963). Expected < 9.8.0. Please open a feature request on cvxpy to enable support for this version.')\n",
      "(CVXPY) May 11 07:25:52 PM: Encountered unexpected exception importing solver PDLP:\n",
      "RuntimeError('Unrecognized new version of ortools (9.9.3963). Expected < 9.8.0. Please open a feature request on cvxpy to enable support for this version.')\n"
     ]
    }
   ],
   "source": [
    "from sklearn.linear_model import LogisticRegression\n",
    "\n",
    "from optbinning import BinningProcess\n",
    "from optbinning import Scorecard\n",
    "from optbinning.scorecard import plot_auc_roc, plot_cap, plot_ks"
   ]
  },
  {
   "cell_type": "markdown",
   "metadata": {},
   "source": [
    "Download the dataset from the link above and load it."
   ]
  },
  {
   "cell_type": "code",
   "execution_count": 4,
   "metadata": {},
   "outputs": [],
   "source": [
    "df = pd.read_csv(\"heloc_dataset_v1.csv\", sep=\",\")"
   ]
  },
  {
   "cell_type": "code",
   "execution_count": 5,
   "metadata": {},
   "outputs": [],
   "source": [
    "variable_names = list(df.columns[1:])\n",
    "X = df[variable_names]"
   ]
  },
  {
   "cell_type": "markdown",
   "metadata": {},
   "source": [
    "Transform the categorical dichotomic target variable into numerical."
   ]
  },
  {
   "cell_type": "code",
   "execution_count": 6,
   "metadata": {},
   "outputs": [],
   "source": [
    "target = \"RiskPerformance\"\n",
    "y = df[target].values\n",
    "mask = y == \"Bad\"\n",
    "y[mask] = 1\n",
    "y[~mask] = 0\n",
    "y = y.astype(int)"
   ]
  },
  {
   "cell_type": "code",
   "execution_count": 7,
   "metadata": {},
   "outputs": [
    {
     "data": {
      "text/html": [
       "<div>\n",
       "<style scoped>\n",
       "    .dataframe tbody tr th:only-of-type {\n",
       "        vertical-align: middle;\n",
       "    }\n",
       "\n",
       "    .dataframe tbody tr th {\n",
       "        vertical-align: top;\n",
       "    }\n",
       "\n",
       "    .dataframe thead th {\n",
       "        text-align: right;\n",
       "    }\n",
       "</style>\n",
       "<table border=\"1\" class=\"dataframe\">\n",
       "  <thead>\n",
       "    <tr style=\"text-align: right;\">\n",
       "      <th></th>\n",
       "      <th>RiskPerformance</th>\n",
       "      <th>ExternalRiskEstimate</th>\n",
       "      <th>MSinceOldestTradeOpen</th>\n",
       "      <th>MSinceMostRecentTradeOpen</th>\n",
       "      <th>AverageMInFile</th>\n",
       "      <th>NumSatisfactoryTrades</th>\n",
       "      <th>NumTrades60Ever2DerogPubRec</th>\n",
       "      <th>NumTrades90Ever2DerogPubRec</th>\n",
       "      <th>PercentTradesNeverDelq</th>\n",
       "      <th>MSinceMostRecentDelq</th>\n",
       "      <th>...</th>\n",
       "      <th>PercentInstallTrades</th>\n",
       "      <th>MSinceMostRecentInqexcl7days</th>\n",
       "      <th>NumInqLast6M</th>\n",
       "      <th>NumInqLast6Mexcl7days</th>\n",
       "      <th>NetFractionRevolvingBurden</th>\n",
       "      <th>NetFractionInstallBurden</th>\n",
       "      <th>NumRevolvingTradesWBalance</th>\n",
       "      <th>NumInstallTradesWBalance</th>\n",
       "      <th>NumBank2NatlTradesWHighUtilization</th>\n",
       "      <th>PercentTradesWBalance</th>\n",
       "    </tr>\n",
       "  </thead>\n",
       "  <tbody>\n",
       "    <tr>\n",
       "      <th>0</th>\n",
       "      <td>1</td>\n",
       "      <td>55</td>\n",
       "      <td>144</td>\n",
       "      <td>4</td>\n",
       "      <td>84</td>\n",
       "      <td>20</td>\n",
       "      <td>3</td>\n",
       "      <td>0</td>\n",
       "      <td>83</td>\n",
       "      <td>2</td>\n",
       "      <td>...</td>\n",
       "      <td>43</td>\n",
       "      <td>0</td>\n",
       "      <td>0</td>\n",
       "      <td>0</td>\n",
       "      <td>33</td>\n",
       "      <td>-8</td>\n",
       "      <td>8</td>\n",
       "      <td>1</td>\n",
       "      <td>1</td>\n",
       "      <td>69</td>\n",
       "    </tr>\n",
       "    <tr>\n",
       "      <th>1</th>\n",
       "      <td>1</td>\n",
       "      <td>61</td>\n",
       "      <td>58</td>\n",
       "      <td>15</td>\n",
       "      <td>41</td>\n",
       "      <td>2</td>\n",
       "      <td>4</td>\n",
       "      <td>4</td>\n",
       "      <td>100</td>\n",
       "      <td>-7</td>\n",
       "      <td>...</td>\n",
       "      <td>67</td>\n",
       "      <td>0</td>\n",
       "      <td>0</td>\n",
       "      <td>0</td>\n",
       "      <td>0</td>\n",
       "      <td>-8</td>\n",
       "      <td>0</td>\n",
       "      <td>-8</td>\n",
       "      <td>-8</td>\n",
       "      <td>0</td>\n",
       "    </tr>\n",
       "    <tr>\n",
       "      <th>2</th>\n",
       "      <td>1</td>\n",
       "      <td>67</td>\n",
       "      <td>66</td>\n",
       "      <td>5</td>\n",
       "      <td>24</td>\n",
       "      <td>9</td>\n",
       "      <td>0</td>\n",
       "      <td>0</td>\n",
       "      <td>100</td>\n",
       "      <td>-7</td>\n",
       "      <td>...</td>\n",
       "      <td>44</td>\n",
       "      <td>0</td>\n",
       "      <td>4</td>\n",
       "      <td>4</td>\n",
       "      <td>53</td>\n",
       "      <td>66</td>\n",
       "      <td>4</td>\n",
       "      <td>2</td>\n",
       "      <td>1</td>\n",
       "      <td>86</td>\n",
       "    </tr>\n",
       "    <tr>\n",
       "      <th>3</th>\n",
       "      <td>1</td>\n",
       "      <td>66</td>\n",
       "      <td>169</td>\n",
       "      <td>1</td>\n",
       "      <td>73</td>\n",
       "      <td>28</td>\n",
       "      <td>1</td>\n",
       "      <td>1</td>\n",
       "      <td>93</td>\n",
       "      <td>76</td>\n",
       "      <td>...</td>\n",
       "      <td>57</td>\n",
       "      <td>0</td>\n",
       "      <td>5</td>\n",
       "      <td>4</td>\n",
       "      <td>72</td>\n",
       "      <td>83</td>\n",
       "      <td>6</td>\n",
       "      <td>4</td>\n",
       "      <td>3</td>\n",
       "      <td>91</td>\n",
       "    </tr>\n",
       "    <tr>\n",
       "      <th>4</th>\n",
       "      <td>1</td>\n",
       "      <td>81</td>\n",
       "      <td>333</td>\n",
       "      <td>27</td>\n",
       "      <td>132</td>\n",
       "      <td>12</td>\n",
       "      <td>0</td>\n",
       "      <td>0</td>\n",
       "      <td>100</td>\n",
       "      <td>-7</td>\n",
       "      <td>...</td>\n",
       "      <td>25</td>\n",
       "      <td>0</td>\n",
       "      <td>1</td>\n",
       "      <td>1</td>\n",
       "      <td>51</td>\n",
       "      <td>89</td>\n",
       "      <td>3</td>\n",
       "      <td>1</td>\n",
       "      <td>0</td>\n",
       "      <td>80</td>\n",
       "    </tr>\n",
       "  </tbody>\n",
       "</table>\n",
       "<p>5 rows × 24 columns</p>\n",
       "</div>"
      ],
      "text/plain": [
       "  RiskPerformance  ExternalRiskEstimate  MSinceOldestTradeOpen  \\\n",
       "0               1                    55                    144   \n",
       "1               1                    61                     58   \n",
       "2               1                    67                     66   \n",
       "3               1                    66                    169   \n",
       "4               1                    81                    333   \n",
       "\n",
       "   MSinceMostRecentTradeOpen  AverageMInFile  NumSatisfactoryTrades  \\\n",
       "0                          4              84                     20   \n",
       "1                         15              41                      2   \n",
       "2                          5              24                      9   \n",
       "3                          1              73                     28   \n",
       "4                         27             132                     12   \n",
       "\n",
       "   NumTrades60Ever2DerogPubRec  NumTrades90Ever2DerogPubRec  \\\n",
       "0                            3                            0   \n",
       "1                            4                            4   \n",
       "2                            0                            0   \n",
       "3                            1                            1   \n",
       "4                            0                            0   \n",
       "\n",
       "   PercentTradesNeverDelq  MSinceMostRecentDelq  ...  PercentInstallTrades  \\\n",
       "0                      83                     2  ...                    43   \n",
       "1                     100                    -7  ...                    67   \n",
       "2                     100                    -7  ...                    44   \n",
       "3                      93                    76  ...                    57   \n",
       "4                     100                    -7  ...                    25   \n",
       "\n",
       "   MSinceMostRecentInqexcl7days  NumInqLast6M  NumInqLast6Mexcl7days  \\\n",
       "0                             0             0                      0   \n",
       "1                             0             0                      0   \n",
       "2                             0             4                      4   \n",
       "3                             0             5                      4   \n",
       "4                             0             1                      1   \n",
       "\n",
       "   NetFractionRevolvingBurden  NetFractionInstallBurden  \\\n",
       "0                          33                        -8   \n",
       "1                           0                        -8   \n",
       "2                          53                        66   \n",
       "3                          72                        83   \n",
       "4                          51                        89   \n",
       "\n",
       "   NumRevolvingTradesWBalance  NumInstallTradesWBalance  \\\n",
       "0                           8                         1   \n",
       "1                           0                        -8   \n",
       "2                           4                         2   \n",
       "3                           6                         4   \n",
       "4                           3                         1   \n",
       "\n",
       "   NumBank2NatlTradesWHighUtilization  PercentTradesWBalance  \n",
       "0                                   1                     69  \n",
       "1                                  -8                      0  \n",
       "2                                   1                     86  \n",
       "3                                   3                     91  \n",
       "4                                   0                     80  \n",
       "\n",
       "[5 rows x 24 columns]"
      ]
     },
     "execution_count": 7,
     "metadata": {},
     "output_type": "execute_result"
    }
   ],
   "source": [
    "df.head()"
   ]
  },
  {
   "cell_type": "markdown",
   "metadata": {},
   "source": [
    "#### Scorecard development"
   ]
  },
  {
   "cell_type": "markdown",
   "metadata": {},
   "source": [
    "This dataset includes three special values/codes:\n",
    "    \n",
    "* -9 No Bureau Record or No Investigation\n",
    "* -8 No Usable/Valid Trades or Inquiries\n",
    "* -7 Condition not Met (e.g. No Inquiries, No Delinquencies)"
   ]
  },
  {
   "cell_type": "code",
   "execution_count": 8,
   "metadata": {},
   "outputs": [],
   "source": [
    "special_codes = [-9, -8, -7]"
   ]
  },
  {
   "cell_type": "markdown",
   "metadata": {},
   "source": [
    "We specify a selection criteria in terms of the Information Value (IV) predictiveness and minimum quality score to remove low-quality variables. Then, we instantiate a ``BinningProcess`` object class with variable names, special codes and selection criteria."
   ]
  },
  {
   "cell_type": "code",
   "execution_count": 9,
   "metadata": {},
   "outputs": [],
   "source": [
    "selection_criteria = {\n",
    "    \"iv\": {\"min\": 0.02, \"max\": 1},\n",
    "    \"quality_score\": {\"min\": 0.01}\n",
    "}"
   ]
  },
  {
   "cell_type": "code",
   "execution_count": 10,
   "metadata": {},
   "outputs": [],
   "source": [
    "binning_process = BinningProcess(variable_names, special_codes=special_codes,\n",
    "                                 selection_criteria=selection_criteria)"
   ]
  },
  {
   "cell_type": "markdown",
   "metadata": {},
   "source": [
    "We select as an estimator a logistic regression to be solved using the non-linear solver L-BFGS-B."
   ]
  },
  {
   "cell_type": "code",
   "execution_count": 10,
   "metadata": {},
   "outputs": [],
   "source": [
    "estimator = LogisticRegression(solver=\"lbfgs\")"
   ]
  },
  {
   "cell_type": "markdown",
   "metadata": {},
   "source": [
    "Finally, we instantiate a ``Scorecard`` class with the target name, a binning process object, and an estimator. In addition, we want to apply a scaling method to the scorecard points."
   ]
  },
  {
   "cell_type": "code",
   "execution_count": 11,
   "metadata": {},
   "outputs": [],
   "source": [
    "scorecard = Scorecard(binning_process=binning_process,\n",
    "                      estimator=estimator, scaling_method=\"min_max\",\n",
    "                      scaling_method_params={\"min\": 300, \"max\": 850})"
   ]
  },
  {
   "cell_type": "code",
   "execution_count": 12,
   "metadata": {},
   "outputs": [
    {
     "name": "stderr",
     "output_type": "stream",
     "text": [
      "/home/gui/projects/github/top/optbinning/optbinning/binning/transformations.py:38: RuntimeWarning: invalid value encountered in log\n",
      "  return np.log((1. / event_rate - 1) * n_event / n_nonevent)\n"
     ]
    },
    {
     "data": {
      "text/plain": [
       "Scorecard(binning_process=BinningProcess(selection_criteria={'iv': {'max': 1,\n",
       "                                                                    'min': 0.02},\n",
       "                                                             'quality_score': {'min': 0.01}},\n",
       "                                         special_codes=[-9, -8, -7],\n",
       "                                         variable_names=['ExternalRiskEstimate',\n",
       "                                                         'MSinceOldestTradeOpen',\n",
       "                                                         'MSinceMostRecentTradeOpen',\n",
       "                                                         'AverageMInFile',\n",
       "                                                         'NumSatisfactoryTrades',\n",
       "                                                         'NumTrades60Ever2DerogPubRec',\n",
       "                                                         'NumTrades90Ever2DerogPubRec',\n",
       "                                                         'PercentTradesNe...\n",
       "                                                         'PercentInstallTrades',\n",
       "                                                         'MSinceMostRecentInqexcl7days',\n",
       "                                                         'NumInqLast6M',\n",
       "                                                         'NumInqLast6Mexcl7days',\n",
       "                                                         'NetFractionRevolvingBurden',\n",
       "                                                         'NetFractionInstallBurden',\n",
       "                                                         'NumRevolvingTradesWBalance',\n",
       "                                                         'NumInstallTradesWBalance',\n",
       "                                                         'NumBank2NatlTradesWHighUtilization',\n",
       "                                                         'PercentTradesWBalance']),\n",
       "          estimator=LogisticRegression(), scaling_method='min_max',\n",
       "          scaling_method_params={'max': 850, 'min': 300})"
      ]
     },
     "execution_count": 12,
     "metadata": {},
     "output_type": "execute_result"
    }
   ],
   "source": [
    "scorecard.fit(X, y, show_digits=4)"
   ]
  },
  {
   "cell_type": "markdown",
   "metadata": {},
   "source": [
    "Similar to other objects in OptBinning, we can print overview information about the options settings, problems statistics, and the number of selected variables after the binning process. With these settings, using the selection criteria, 4 variables are removed."
   ]
  },
  {
   "cell_type": "code",
   "execution_count": 13,
   "metadata": {},
   "outputs": [
    {
     "name": "stdout",
     "output_type": "stream",
     "text": [
      "optbinning (Version 0.19.0)\n",
      "Copyright (c) 2019-2024 Guillermo Navas-Palencia, Apache License 2.0\n",
      "\n",
      "  Begin options\n",
      "    binning_process                      yes   * U\n",
      "    estimator                            yes   * U\n",
      "    scaling_method                   min_max   * U\n",
      "    scaling_method_params                yes   * U\n",
      "    intercept_based                    False   * d\n",
      "    reverse_scorecard                  False   * d\n",
      "    rounding                           False   * d\n",
      "    verbose                            False   * d\n",
      "  End options\n",
      "\n",
      "  Statistics\n",
      "    Number of records                  10459\n",
      "    Number of variables                   23\n",
      "    Target type                       binary\n",
      "\n",
      "    Number of numerical                   23\n",
      "    Number of categorical                  0\n",
      "    Number of selected                    19\n",
      "\n",
      "  Timing\n",
      "    Total time                          3.28 sec\n",
      "    Binning process                     2.62 sec   ( 79.92%)\n",
      "    Estimator                           0.25 sec   (  7.70%)\n",
      "    Build scorecard                     0.41 sec   ( 12.36%)\n",
      "      rounding                          0.00 sec   (  0.00%)\n",
      "\n"
     ]
    }
   ],
   "source": [
    "scorecard.information(print_level=2)"
   ]
  },
  {
   "cell_type": "markdown",
   "metadata": {},
   "source": [
    "The method ``table`` returns the scorecard table. A scorecard table has a wide range of real-world business applications, being an interpretable tool to summarize relationships among variables. The scorecard table can handle binary and continuous targets. Two scorecard styles are available: ``style=\"summary\"`` shows the variable name, and their corresponding bins and assigned points; `style=\"detailed\"` adds information from the corresponding binning table."
   ]
  },
  {
   "cell_type": "code",
   "execution_count": 14,
   "metadata": {},
   "outputs": [
    {
     "data": {
      "text/html": [
       "<div>\n",
       "<style scoped>\n",
       "    .dataframe tbody tr th:only-of-type {\n",
       "        vertical-align: middle;\n",
       "    }\n",
       "\n",
       "    .dataframe tbody tr th {\n",
       "        vertical-align: top;\n",
       "    }\n",
       "\n",
       "    .dataframe thead th {\n",
       "        text-align: right;\n",
       "    }\n",
       "</style>\n",
       "<table border=\"1\" class=\"dataframe\">\n",
       "  <thead>\n",
       "    <tr style=\"text-align: right;\">\n",
       "      <th></th>\n",
       "      <th>Variable</th>\n",
       "      <th>Bin</th>\n",
       "      <th>Points</th>\n",
       "    </tr>\n",
       "  </thead>\n",
       "  <tbody>\n",
       "    <tr>\n",
       "      <th>0</th>\n",
       "      <td>ExternalRiskEstimate</td>\n",
       "      <td>(-inf, 59.5000)</td>\n",
       "      <td>5.359275</td>\n",
       "    </tr>\n",
       "    <tr>\n",
       "      <th>1</th>\n",
       "      <td>ExternalRiskEstimate</td>\n",
       "      <td>[59.5000, 63.5000)</td>\n",
       "      <td>11.598078</td>\n",
       "    </tr>\n",
       "    <tr>\n",
       "      <th>2</th>\n",
       "      <td>ExternalRiskEstimate</td>\n",
       "      <td>[63.5000, 65.5000)</td>\n",
       "      <td>18.168973</td>\n",
       "    </tr>\n",
       "    <tr>\n",
       "      <th>3</th>\n",
       "      <td>ExternalRiskEstimate</td>\n",
       "      <td>[65.5000, 67.5000)</td>\n",
       "      <td>19.821705</td>\n",
       "    </tr>\n",
       "    <tr>\n",
       "      <th>4</th>\n",
       "      <td>ExternalRiskEstimate</td>\n",
       "      <td>[67.5000, 70.5000)</td>\n",
       "      <td>25.498720</td>\n",
       "    </tr>\n",
       "    <tr>\n",
       "      <th>...</th>\n",
       "      <td>...</td>\n",
       "      <td>...</td>\n",
       "      <td>...</td>\n",
       "    </tr>\n",
       "    <tr>\n",
       "      <th>8</th>\n",
       "      <td>PercentTradesWBalance</td>\n",
       "      <td>[80.5000, 87.5000)</td>\n",
       "      <td>32.310289</td>\n",
       "    </tr>\n",
       "    <tr>\n",
       "      <th>9</th>\n",
       "      <td>PercentTradesWBalance</td>\n",
       "      <td>[87.5000, 98.0000)</td>\n",
       "      <td>32.026880</td>\n",
       "    </tr>\n",
       "    <tr>\n",
       "      <th>10</th>\n",
       "      <td>PercentTradesWBalance</td>\n",
       "      <td>[98.0000, inf)</td>\n",
       "      <td>31.928758</td>\n",
       "    </tr>\n",
       "    <tr>\n",
       "      <th>11</th>\n",
       "      <td>PercentTradesWBalance</td>\n",
       "      <td>Special</td>\n",
       "      <td>32.738612</td>\n",
       "    </tr>\n",
       "    <tr>\n",
       "      <th>12</th>\n",
       "      <td>PercentTradesWBalance</td>\n",
       "      <td>Missing</td>\n",
       "      <td>32.738612</td>\n",
       "    </tr>\n",
       "  </tbody>\n",
       "</table>\n",
       "<p>164 rows × 3 columns</p>\n",
       "</div>"
      ],
      "text/plain": [
       "                 Variable                 Bin     Points\n",
       "0    ExternalRiskEstimate     (-inf, 59.5000)   5.359275\n",
       "1    ExternalRiskEstimate  [59.5000, 63.5000)  11.598078\n",
       "2    ExternalRiskEstimate  [63.5000, 65.5000)  18.168973\n",
       "3    ExternalRiskEstimate  [65.5000, 67.5000)  19.821705\n",
       "4    ExternalRiskEstimate  [67.5000, 70.5000)  25.498720\n",
       "..                    ...                 ...        ...\n",
       "8   PercentTradesWBalance  [80.5000, 87.5000)  32.310289\n",
       "9   PercentTradesWBalance  [87.5000, 98.0000)  32.026880\n",
       "10  PercentTradesWBalance      [98.0000, inf)  31.928758\n",
       "11  PercentTradesWBalance             Special  32.738612\n",
       "12  PercentTradesWBalance             Missing  32.738612\n",
       "\n",
       "[164 rows x 3 columns]"
      ]
     },
     "execution_count": 14,
     "metadata": {},
     "output_type": "execute_result"
    }
   ],
   "source": [
    "scorecard.table(style=\"summary\")"
   ]
  },
  {
   "cell_type": "code",
   "execution_count": 15,
   "metadata": {},
   "outputs": [
    {
     "data": {
      "text/html": [
       "<div>\n",
       "<style scoped>\n",
       "    .dataframe tbody tr th:only-of-type {\n",
       "        vertical-align: middle;\n",
       "    }\n",
       "\n",
       "    .dataframe tbody tr th {\n",
       "        vertical-align: top;\n",
       "    }\n",
       "\n",
       "    .dataframe thead th {\n",
       "        text-align: right;\n",
       "    }\n",
       "</style>\n",
       "<table border=\"1\" class=\"dataframe\">\n",
       "  <thead>\n",
       "    <tr style=\"text-align: right;\">\n",
       "      <th></th>\n",
       "      <th>Variable</th>\n",
       "      <th>Bin id</th>\n",
       "      <th>Bin</th>\n",
       "      <th>Count</th>\n",
       "      <th>Count (%)</th>\n",
       "      <th>Non-event</th>\n",
       "      <th>Event</th>\n",
       "      <th>Event rate</th>\n",
       "      <th>WoE</th>\n",
       "      <th>IV</th>\n",
       "      <th>JS</th>\n",
       "      <th>Coefficient</th>\n",
       "      <th>Points</th>\n",
       "    </tr>\n",
       "  </thead>\n",
       "  <tbody>\n",
       "    <tr>\n",
       "      <th>0</th>\n",
       "      <td>ExternalRiskEstimate</td>\n",
       "      <td>0</td>\n",
       "      <td>(-inf, 59.5000)</td>\n",
       "      <td>1081</td>\n",
       "      <td>0.103356</td>\n",
       "      <td>166</td>\n",
       "      <td>915</td>\n",
       "      <td>0.846438</td>\n",
       "      <td>-1.619109</td>\n",
       "      <td>0.217629</td>\n",
       "      <td>0.024574</td>\n",
       "      <td>-0.327969</td>\n",
       "      <td>5.359275</td>\n",
       "    </tr>\n",
       "    <tr>\n",
       "      <th>1</th>\n",
       "      <td>ExternalRiskEstimate</td>\n",
       "      <td>1</td>\n",
       "      <td>[59.5000, 63.5000)</td>\n",
       "      <td>1097</td>\n",
       "      <td>0.104886</td>\n",
       "      <td>228</td>\n",
       "      <td>869</td>\n",
       "      <td>0.792160</td>\n",
       "      <td>-1.250170</td>\n",
       "      <td>0.142003</td>\n",
       "      <td>0.016678</td>\n",
       "      <td>-0.327969</td>\n",
       "      <td>11.598078</td>\n",
       "    </tr>\n",
       "    <tr>\n",
       "      <th>2</th>\n",
       "      <td>ExternalRiskEstimate</td>\n",
       "      <td>2</td>\n",
       "      <td>[63.5000, 65.5000)</td>\n",
       "      <td>681</td>\n",
       "      <td>0.065111</td>\n",
       "      <td>190</td>\n",
       "      <td>491</td>\n",
       "      <td>0.720999</td>\n",
       "      <td>-0.861592</td>\n",
       "      <td>0.044754</td>\n",
       "      <td>0.005427</td>\n",
       "      <td>-0.327969</td>\n",
       "      <td>18.168973</td>\n",
       "    </tr>\n",
       "    <tr>\n",
       "      <th>3</th>\n",
       "      <td>ExternalRiskEstimate</td>\n",
       "      <td>3</td>\n",
       "      <td>[65.5000, 67.5000)</td>\n",
       "      <td>652</td>\n",
       "      <td>0.062339</td>\n",
       "      <td>195</td>\n",
       "      <td>457</td>\n",
       "      <td>0.700920</td>\n",
       "      <td>-0.763856</td>\n",
       "      <td>0.034156</td>\n",
       "      <td>0.004169</td>\n",
       "      <td>-0.327969</td>\n",
       "      <td>19.821705</td>\n",
       "    </tr>\n",
       "    <tr>\n",
       "      <th>4</th>\n",
       "      <td>ExternalRiskEstimate</td>\n",
       "      <td>4</td>\n",
       "      <td>[67.5000, 70.5000)</td>\n",
       "      <td>1038</td>\n",
       "      <td>0.099245</td>\n",
       "      <td>388</td>\n",
       "      <td>650</td>\n",
       "      <td>0.626204</td>\n",
       "      <td>-0.428139</td>\n",
       "      <td>0.017755</td>\n",
       "      <td>0.002203</td>\n",
       "      <td>-0.327969</td>\n",
       "      <td>25.498720</td>\n",
       "    </tr>\n",
       "    <tr>\n",
       "      <th>...</th>\n",
       "      <td>...</td>\n",
       "      <td>...</td>\n",
       "      <td>...</td>\n",
       "      <td>...</td>\n",
       "      <td>...</td>\n",
       "      <td>...</td>\n",
       "      <td>...</td>\n",
       "      <td>...</td>\n",
       "      <td>...</td>\n",
       "      <td>...</td>\n",
       "      <td>...</td>\n",
       "      <td>...</td>\n",
       "      <td>...</td>\n",
       "    </tr>\n",
       "    <tr>\n",
       "      <th>8</th>\n",
       "      <td>PercentTradesWBalance</td>\n",
       "      <td>8</td>\n",
       "      <td>[80.5000, 87.5000)</td>\n",
       "      <td>797</td>\n",
       "      <td>0.076202</td>\n",
       "      <td>283</td>\n",
       "      <td>514</td>\n",
       "      <td>0.644918</td>\n",
       "      <td>-0.508949</td>\n",
       "      <td>0.019114</td>\n",
       "      <td>0.002364</td>\n",
       "      <td>-0.016322</td>\n",
       "      <td>32.310289</td>\n",
       "    </tr>\n",
       "    <tr>\n",
       "      <th>9</th>\n",
       "      <td>PercentTradesWBalance</td>\n",
       "      <td>9</td>\n",
       "      <td>[87.5000, 98.0000)</td>\n",
       "      <td>652</td>\n",
       "      <td>0.062339</td>\n",
       "      <td>184</td>\n",
       "      <td>468</td>\n",
       "      <td>0.717791</td>\n",
       "      <td>-0.845705</td>\n",
       "      <td>0.041380</td>\n",
       "      <td>0.005024</td>\n",
       "      <td>-0.016322</td>\n",
       "      <td>32.026880</td>\n",
       "    </tr>\n",
       "    <tr>\n",
       "      <th>10</th>\n",
       "      <td>PercentTradesWBalance</td>\n",
       "      <td>10</td>\n",
       "      <td>[98.0000, inf)</td>\n",
       "      <td>1277</td>\n",
       "      <td>0.122096</td>\n",
       "      <td>331</td>\n",
       "      <td>946</td>\n",
       "      <td>0.740799</td>\n",
       "      <td>-0.962296</td>\n",
       "      <td>0.103054</td>\n",
       "      <td>0.012407</td>\n",
       "      <td>-0.016322</td>\n",
       "      <td>31.928758</td>\n",
       "    </tr>\n",
       "    <tr>\n",
       "      <th>11</th>\n",
       "      <td>PercentTradesWBalance</td>\n",
       "      <td>11</td>\n",
       "      <td>Special</td>\n",
       "      <td>606</td>\n",
       "      <td>0.057941</td>\n",
       "      <td>269</td>\n",
       "      <td>337</td>\n",
       "      <td>0.556106</td>\n",
       "      <td>-0.137544</td>\n",
       "      <td>0.001091</td>\n",
       "      <td>0.000136</td>\n",
       "      <td>-0.016322</td>\n",
       "      <td>32.738612</td>\n",
       "    </tr>\n",
       "    <tr>\n",
       "      <th>12</th>\n",
       "      <td>PercentTradesWBalance</td>\n",
       "      <td>12</td>\n",
       "      <td>Missing</td>\n",
       "      <td>0</td>\n",
       "      <td>0.000000</td>\n",
       "      <td>0</td>\n",
       "      <td>0</td>\n",
       "      <td>0.000000</td>\n",
       "      <td>0.000000</td>\n",
       "      <td>0.000000</td>\n",
       "      <td>0.000000</td>\n",
       "      <td>-0.016322</td>\n",
       "      <td>32.738612</td>\n",
       "    </tr>\n",
       "  </tbody>\n",
       "</table>\n",
       "<p>164 rows × 13 columns</p>\n",
       "</div>"
      ],
      "text/plain": [
       "                 Variable  Bin id                 Bin  Count  Count (%)  \\\n",
       "0    ExternalRiskEstimate       0     (-inf, 59.5000)   1081   0.103356   \n",
       "1    ExternalRiskEstimate       1  [59.5000, 63.5000)   1097   0.104886   \n",
       "2    ExternalRiskEstimate       2  [63.5000, 65.5000)    681   0.065111   \n",
       "3    ExternalRiskEstimate       3  [65.5000, 67.5000)    652   0.062339   \n",
       "4    ExternalRiskEstimate       4  [67.5000, 70.5000)   1038   0.099245   \n",
       "..                    ...     ...                 ...    ...        ...   \n",
       "8   PercentTradesWBalance       8  [80.5000, 87.5000)    797   0.076202   \n",
       "9   PercentTradesWBalance       9  [87.5000, 98.0000)    652   0.062339   \n",
       "10  PercentTradesWBalance      10      [98.0000, inf)   1277   0.122096   \n",
       "11  PercentTradesWBalance      11             Special    606   0.057941   \n",
       "12  PercentTradesWBalance      12             Missing      0   0.000000   \n",
       "\n",
       "    Non-event  Event  Event rate       WoE        IV        JS  Coefficient  \\\n",
       "0         166    915    0.846438 -1.619109  0.217629  0.024574    -0.327969   \n",
       "1         228    869    0.792160 -1.250170  0.142003  0.016678    -0.327969   \n",
       "2         190    491    0.720999 -0.861592  0.044754  0.005427    -0.327969   \n",
       "3         195    457    0.700920 -0.763856  0.034156  0.004169    -0.327969   \n",
       "4         388    650    0.626204 -0.428139  0.017755  0.002203    -0.327969   \n",
       "..        ...    ...         ...       ...       ...       ...          ...   \n",
       "8         283    514    0.644918 -0.508949  0.019114  0.002364    -0.016322   \n",
       "9         184    468    0.717791 -0.845705  0.041380  0.005024    -0.016322   \n",
       "10        331    946    0.740799 -0.962296  0.103054  0.012407    -0.016322   \n",
       "11        269    337    0.556106 -0.137544  0.001091  0.000136    -0.016322   \n",
       "12          0      0    0.000000  0.000000  0.000000  0.000000    -0.016322   \n",
       "\n",
       "       Points  \n",
       "0    5.359275  \n",
       "1   11.598078  \n",
       "2   18.168973  \n",
       "3   19.821705  \n",
       "4   25.498720  \n",
       "..        ...  \n",
       "8   32.310289  \n",
       "9   32.026880  \n",
       "10  31.928758  \n",
       "11  32.738612  \n",
       "12  32.738612  \n",
       "\n",
       "[164 rows x 13 columns]"
      ]
     },
     "execution_count": 15,
     "metadata": {},
     "output_type": "execute_result"
    }
   ],
   "source": [
    "scorecard.table(style=\"detailed\")"
   ]
  },
  {
   "cell_type": "markdown",
   "metadata": {},
   "source": [
    "We can check the correctness of the scaling method as follows"
   ]
  },
  {
   "cell_type": "code",
   "execution_count": 16,
   "metadata": {},
   "outputs": [
    {
     "data": {
      "text/plain": [
       "Points  amin    300.0\n",
       "        amax    850.0\n",
       "dtype: float64"
      ]
     },
     "execution_count": 16,
     "metadata": {},
     "output_type": "execute_result"
    }
   ],
   "source": [
    "sc = scorecard.table(style=\"summary\")\n",
    "sc.groupby(\"Variable\").agg({'Points' : [np.min, np.max]}).sum()"
   ]
  },
  {
   "cell_type": "markdown",
   "metadata": {},
   "source": [
    "#### Scorecard performance"
   ]
  },
  {
   "cell_type": "markdown",
   "metadata": {},
   "source": [
    "Compute predicted probabilities of the fitted estimator."
   ]
  },
  {
   "cell_type": "code",
   "execution_count": 17,
   "metadata": {},
   "outputs": [
    {
     "name": "stderr",
     "output_type": "stream",
     "text": [
      "/home/gui/projects/github/top/optbinning/optbinning/binning/transformations.py:38: RuntimeWarning: invalid value encountered in log\n",
      "  return np.log((1. / event_rate - 1) * n_event / n_nonevent)\n"
     ]
    }
   ],
   "source": [
    "y_pred = scorecard.predict_proba(X)[:, 1]"
   ]
  },
  {
   "cell_type": "markdown",
   "metadata": {},
   "source": [
    "Plot Area Under the Receiver Operating Characteristic Curve (AUC ROC)."
   ]
  },
  {
   "cell_type": "code",
   "execution_count": 18,
   "metadata": {},
   "outputs": [
    {
     "data": {
      "image/png": "[encoded data removed]",
      "text/plain": [
       "<Figure size 432x288 with 1 Axes>"
      ]
     },
     "metadata": {
      "needs_background": "light"
     },
     "output_type": "display_data"
    }
   ],
   "source": [
    "plot_auc_roc(y, y_pred)"
   ]
  },
  {
   "cell_type": "markdown",
   "metadata": {},
   "source": [
    "Plot Cumulative Accuracy Profile (CAP)."
   ]
  },
  {
   "cell_type": "code",
   "execution_count": 19,
   "metadata": {},
   "outputs": [
    {
     "data": {
      "image/png": "[encoded data removed]",
      "text/plain": [
       "<Figure size 432x288 with 1 Axes>"
      ]
     },
     "metadata": {
      "needs_background": "light"
     },
     "output_type": "display_data"
    }
   ],
   "source": [
    "plot_cap(y, y_pred)"
   ]
  },
  {
   "cell_type": "markdown",
   "metadata": {},
   "source": [
    "Plot Kolmogorov-Smirnov (KS)."
   ]
  },
  {
   "cell_type": "code",
   "execution_count": 20,
   "metadata": {},
   "outputs": [
    {
     "data": {
      "image/png": "[encoded data removed]",
      "text/plain": [
       "<Figure size 432x288 with 1 Axes>"
      ]
     },
     "metadata": {
      "needs_background": "light"
     },
     "output_type": "display_data"
    }
   ],
   "source": [
    "plot_ks(y, y_pred)"
   ]
  },
  {
   "cell_type": "markdown",
   "metadata": {},
   "source": [
    "Calculate the score of the dataset and plot distribution of scores for event and non-event records."
   ]
  },
  {
   "cell_type": "code",
   "execution_count": 21,
   "metadata": {},
   "outputs": [],
   "source": [
    "score = scorecard.score(X)"
   ]
  },
  {
   "cell_type": "code",
   "execution_count": 22,
   "metadata": {},
   "outputs": [
    {
     "data": {
      "image/png": "[encoded data removed]",
      "text/plain": [
       "<Figure size 432x288 with 1 Axes>"
      ]
     },
     "metadata": {
      "needs_background": "light"
     },
     "output_type": "display_data"
    }
   ],
   "source": [
    "mask = y == 0\n",
    "plt.hist(score[mask], label=\"non-event\", color=\"b\", alpha=0.35)\n",
    "plt.hist(score[~mask], label=\"event\", color=\"r\", alpha=0.35)\n",
    "plt.xlabel(\"score\")\n",
    "plt.legend()\n",
    "plt.show()"
   ]
  }
 ],
 "metadata": {
  "kernelspec": {
   "display_name": "Python 3",
   "language": "python",
   "name": "python3"
  },
  "language_info": {
   "codemirror_mode": {
    "name": "ipython",
    "version": 3
   },
   "file_extension": ".py",
   "mimetype": "text/x-python",
   "name": "python",
   "nbconvert_exporter": "python",
   "pygments_lexer": "ipython3",
   "version": "3.12.1"
  }
 },
 "nbformat": 4,
 "nbformat_minor": 2
}
